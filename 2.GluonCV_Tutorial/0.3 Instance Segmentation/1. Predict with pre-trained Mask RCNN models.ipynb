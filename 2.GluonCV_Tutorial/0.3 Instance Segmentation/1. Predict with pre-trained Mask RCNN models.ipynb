{
  "cells": [
    {
      "cell_type": "code",
      "execution_count": null,
      "metadata": {
        "collapsed": false
      },
      "outputs": [],
      "source": [
        "%matplotlib inline"
      ]
    },
    {
      "cell_type": "markdown",
      "metadata": {},
      "source": [
        "1. Predict with pre-trained Mask RCNN models\n===============================================\n\nThis article shows how to play with pre-trained Mask RCNN model.\n\nMask RCNN networks are extensions to Faster RCNN networks.\n:py:class:`gluoncv.model_zoo.MaskRCNN` is inherited from\n:py:class:`gluoncv.model_zoo.FasterRCNN`.\nIt is highly recommended to read :doc:`../examples_detection/demo_faster_rcnn` first.\n\nFirst let's import some necessary libraries:\n\n"
      ]
    },
    {
      "cell_type": "code",
      "execution_count": null,
      "metadata": {
        "collapsed": false
      },
      "outputs": [],
      "source": [
        "from matplotlib import pyplot as plt\nfrom gluoncv import model_zoo, data, utils"
      ]
    },
    {
      "cell_type": "markdown",
      "metadata": {},
      "source": [
        "Load a pretrained model\n-------------------------\n\nLet's get an Mask RCNN model trained on COCO dataset with ResNet-50 backbone.\nBy specifying ``pretrained=True``, it will automatically download the model\nfrom the model zoo if necessary. For more pretrained models, please refer to\n:doc:`../../model_zoo/index`.\n\nThe returned model is a HybridBlock :py:class:`gluoncv.model_zoo.MaskRCNN`\nwith a default context of `cpu(0)`.\n\n"
      ]
    },
    {
      "cell_type": "code",
      "execution_count": null,
      "metadata": {
        "collapsed": false
      },
      "outputs": [],
      "source": [
        "net = model_zoo.get_model('mask_rcnn_resnet50_v1b_coco', pretrained=True)"
      ]
    },
    {
      "cell_type": "markdown",
      "metadata": {},
      "source": [
        "Pre-process an image\n--------------------\n\nThe pre-processing step is identical to Faster RCNN.\n\nNext we download an image, and pre-process with preset data transforms.\nThe default behavior is to resize the short edge of the image to 600px.\nBut you can feed an arbitrarily sized image.\n\nYou can provide a list of image file names, such as ``[im_fname1, im_fname2,\n...]`` to :py:func:`gluoncv.data.transforms.presets.rcnn.load_test` if you\nwant to load multiple image together.\n\nThis function returns two results. The first is a NDArray with shape\n`(batch_size, RGB_channels, height, width)`. It can be fed into the\nmodel directly. The second one contains the images in numpy format to\neasy to be plotted. Since we only loaded a single image, the first dimension\nof `x` is 1.\n\nPlease beware that `orig_img` is resized to short edge 600px.\n\n"
      ]
    },
    {
      "cell_type": "code",
      "execution_count": null,
      "metadata": {
        "collapsed": false
      },
      "outputs": [],
      "source": [
        "im_fname = utils.download('https://github.com/dmlc/web-data/blob/master/' +\n                          'gluoncv/detection/biking.jpg?raw=true',\n                          path='biking.jpg')\nx, orig_img = data.transforms.presets.rcnn.load_test(im_fname)"
      ]
    },
    {
      "cell_type": "markdown",
      "metadata": {},
      "source": [
        "Inference and display\n---------------------\n\nThe Mask RCNN model returns predicted class IDs, confidence scores,\nbounding boxes coordinates and segmentation masks.\nTheir shape are (batch_size, num_bboxes, 1), (batch_size, num_bboxes, 1)\n(batch_size, num_bboxes, 4), and (batch_size, num_bboxes, mask_size, mask_size)\nrespectively. For the model used in this tutorial, mask_size is 14.\n\nObject Detection results\n\nWe can use :py:func:`gluoncv.utils.viz.plot_bbox` to visualize the\nresults. We slice the results for the first image and feed them into `plot_bbox`:\n\nPlot Segmentation\n\n:py:func:`gluoncv.utils.viz.expand_mask` will resize the segmentation mask\nand fill the bounding box size in the original image.\n:py:func:`gluoncv.utils.viz.plot_mask` will modify an image to\noverlay segmentation masks.\n\n"
      ]
    },
    {
      "cell_type": "code",
      "execution_count": null,
      "metadata": {
        "collapsed": false
      },
      "outputs": [],
      "source": [
        "ids, scores, bboxes, masks = [xx[0].asnumpy() for xx in net(x)]\n\n# paint segmentation mask on images directly\nwidth, height = orig_img.shape[1], orig_img.shape[0]\nmasks = utils.viz.expand_mask(masks, bboxes, (width, height), scores)\norig_img = utils.viz.plot_mask(orig_img, masks)\n\n# identical to Faster RCNN object detection\nfig = plt.figure(figsize=(10, 10))\nax = fig.add_subplot(1, 1, 1)\nax = utils.viz.plot_bbox(orig_img, bboxes, scores, ids,\n                         class_names=net.classes, ax=ax)\nplt.show()"
      ]
    }
  ],
  "metadata": {
    "kernelspec": {
      "display_name": "Python 3",
      "language": "python",
      "name": "python3"
    },
    "language_info": {
      "codemirror_mode": {
        "name": "ipython",
        "version": 3
      },
      "file_extension": ".py",
      "mimetype": "text/x-python",
      "name": "python",
      "nbconvert_exporter": "python",
      "pygments_lexer": "ipython3",
      "version": "3.7.2"
    }
  },
  "nbformat": 4,
  "nbformat_minor": 0
}