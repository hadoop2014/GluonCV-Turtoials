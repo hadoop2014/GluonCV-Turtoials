{
  "cells": [
    {
      "cell_type": "code",
      "execution_count": null,
      "metadata": {
        "collapsed": false
      },
      "outputs": [],
      "source": [
        "%matplotlib inline"
      ]
    },
    {
      "cell_type": "markdown",
      "metadata": {},
      "source": [
        "Prepare ADE20K dataset.\n========================\n\n`ADE20K <http://sceneparsing.csail.mit.edu/>`_ is a scene-centric containing\n20 thousands images annotated with 150 object categories.\nThis tutorial help you to download ADE20K and set it up for later experiments.\n\n![](http://groups.csail.mit.edu/vision/datasets/ADE20K/assets/images/examples.png)\n\n   :width: 600 px\n\n.. hint::\n\n   You need 2.3 GB free disk space to download and extract this dataset.\n   SSD harddrives are recommended for faster speed.\n   The time it takes to prepare the dataset depends on your Internet connection\n   and disk speed. For example, it takes around 25 mins on an AWS EC2 instance\n   with EBS.\n\nPrepare the dataset\n-------------------\n\nWe will download and unzip the following files:\n\n+-------------------------------------------------------------------------------------------------------+--------+\n| File name                                                                                             | Size   |\n+=======================================================================================================+========+\n| `ADEChallengeData2016.zip <http://data.csail.mit.edu/places/ADEchallenge/ADEChallengeData2016.zip>`_  | 923 MB |\n+-------------------------------------------------------------------------------------------------------+--------+\n| `release_test.zip <http://data.csail.mit.edu/places/ADEchallenge/release_test.zip>`_                  | 202 MB |\n+-------------------------------------------------------------------------------------------------------+--------+\n\nThe easiest way is to run this script:\n\n :download:`Download script: ade20k.py<../../../scripts/datasets/ade20k.py>`\n\n.. code-block:: bash\n\n   python ade20k.py\n\nIf you have already downloaded the above files and unzipped them,\nyou can set the folder name through ``--download-dir`` to avoid\ndownloading them again. For example\n\n.. code-block:: python\n\n   python ade20k.py --download-dir ~/ade_downloads\n\n\n"
      ]
    },
    {
      "cell_type": "markdown",
      "metadata": {},
      "source": [
        "How to load the dataset\n-----------------------\n\nLoading images and labels from ADE20K is straight-forward\nwith GluonCV's dataset utility:\n\n"
      ]
    },
    {
      "cell_type": "code",
      "execution_count": null,
      "metadata": {
        "collapsed": false
      },
      "outputs": [],
      "source": [
        "from gluoncv.data import ADE20KSegmentation\ntrain_dataset = ADE20KSegmentation(split='train')\nval_dataset = ADE20KSegmentation(split='val')\nprint('Training images:', len(train_dataset))\nprint('Validation images:', len(val_dataset))"
      ]
    },
    {
      "cell_type": "markdown",
      "metadata": {},
      "source": [
        "Get the first sample\n--------------------\n\n\n"
      ]
    },
    {
      "cell_type": "code",
      "execution_count": null,
      "metadata": {
        "collapsed": false
      },
      "outputs": [],
      "source": [
        "import numpy as np\nimg, mask = val_dataset[0]\n# get pallete for the mask\nfrom gluoncv.utils.viz import get_color_pallete\nmask = get_color_pallete(mask.asnumpy(), dataset='ade20k')\nmask.save('mask.png')"
      ]
    },
    {
      "cell_type": "markdown",
      "metadata": {},
      "source": [
        "Visualize data and label\n------------------------\n\n\n"
      ]
    },
    {
      "cell_type": "code",
      "execution_count": null,
      "metadata": {
        "collapsed": false
      },
      "outputs": [],
      "source": [
        "from matplotlib import pyplot as plt\nimport matplotlib.image as mpimg\n# subplot 1 for img\nfig = plt.figure()\nfig.add_subplot(1,2,1)\nplt.imshow(img.asnumpy().astype('uint8'))\n# subplot 2 for the mask\nmmask = mpimg.imread('mask.png')\nfig.add_subplot(1,2,2)\nplt.imshow(mmask)\n# display\nplt.show()"
      ]
    }
  ],
  "metadata": {
    "kernelspec": {
      "display_name": "Python 3",
      "language": "python",
      "name": "python3"
    },
    "language_info": {
      "codemirror_mode": {
        "name": "ipython",
        "version": 3
      },
      "file_extension": ".py",
      "mimetype": "text/x-python",
      "name": "python",
      "nbconvert_exporter": "python",
      "pygments_lexer": "ipython3",
      "version": "3.7.2"
    }
  },
  "nbformat": 4,
  "nbformat_minor": 0
}