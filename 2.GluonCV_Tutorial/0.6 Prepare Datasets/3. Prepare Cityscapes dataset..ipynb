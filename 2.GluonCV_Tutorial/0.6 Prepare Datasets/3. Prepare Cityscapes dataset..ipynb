{
  "cells": [
    {
      "cell_type": "code",
      "execution_count": null,
      "metadata": {
        "collapsed": false
      },
      "outputs": [],
      "source": [
        "%matplotlib inline"
      ]
    },
    {
      "cell_type": "markdown",
      "metadata": {},
      "source": [
        "Prepare Cityscapes dataset.\n========================\n\n`Cityscapes <http://sceneparsing.csail.mit.edu/>`_  focuses on semantic understanding of\nurban street scenes. This tutorial help you to download Cityscapes and set it up for later experiments.\n\n![](https://www.cityscapes-dataset.com/wordpress/wp-content/uploads/2015/07/stuttgart02-2040x500.png)\n\n   :width: 600 px\n\n\nPrepare the dataset\n-------------------\n\n\nPlease login and download the files `gtFine_trainvaltest.zip` and `leftImg8bit_trainvaltest.zip` to\nthe current folder:\n\n+---------------------------------------+--------+\n| File name                             | Size   |\n+=======================================+========+\n| gtFine_trainvaltest.zip               | 253 MB |\n+---------------------------------------+--------+\n| leftImg8bit_trainvaltest.zip          | 12 GB  |\n+---------------------------------------+--------+\n\nThen run this script:\n\n :download:`Download script: cityscapes.py<../../../scripts/datasets/cityscapes.py>`\n\n.. code-block:: bash\n\n   python cityscapes.py\n\n\n"
      ]
    },
    {
      "cell_type": "markdown",
      "metadata": {},
      "source": [
        "How to load the dataset\n-----------------------\n\nLoading images and labels from Cityscapes is straight-forward\nwith GluonCV's dataset utility:\n\n"
      ]
    },
    {
      "cell_type": "code",
      "execution_count": null,
      "metadata": {
        "collapsed": false
      },
      "outputs": [],
      "source": [
        "from gluoncv.data import CitySegmentation\ntrain_dataset = CitySegmentation(split='train')\nval_dataset = CitySegmentation(split='val')\nprint('Training images:', len(train_dataset))\nprint('Validation images:', len(val_dataset))"
      ]
    },
    {
      "cell_type": "markdown",
      "metadata": {},
      "source": [
        "Get the first sample\n--------------------\n\n\n"
      ]
    },
    {
      "cell_type": "code",
      "execution_count": null,
      "metadata": {
        "collapsed": false
      },
      "outputs": [],
      "source": [
        "import numpy as np\nimg, mask = val_dataset[0]\n# get pallete for the mask\nfrom gluoncv.utils.viz import get_color_pallete\nmask = get_color_pallete(mask.asnumpy(), dataset='citys')\nmask.save('mask.png')"
      ]
    },
    {
      "cell_type": "markdown",
      "metadata": {},
      "source": [
        "Visualize data and label\n------------------------\n\n\n"
      ]
    },
    {
      "cell_type": "code",
      "execution_count": null,
      "metadata": {
        "collapsed": false
      },
      "outputs": [],
      "source": [
        "from matplotlib import pyplot as plt\nimport matplotlib.image as mpimg\n# subplot 1 for img\nfig = plt.figure()\nfig.add_subplot(1,2,1)\nplt.imshow(img.asnumpy().astype('uint8'))\n# subplot 2 for the mask\nmmask = mpimg.imread('mask.png')\nfig.add_subplot(1,2,2)\nplt.imshow(mmask)\n# display\nplt.show()"
      ]
    }
  ],
  "metadata": {
    "kernelspec": {
      "display_name": "Python 3",
      "language": "python",
      "name": "python3"
    },
    "language_info": {
      "codemirror_mode": {
        "name": "ipython",
        "version": 3
      },
      "file_extension": ".py",
      "mimetype": "text/x-python",
      "name": "python",
      "nbconvert_exporter": "python",
      "pygments_lexer": "ipython3",
      "version": "3.7.2"
    }
  },
  "nbformat": 4,
  "nbformat_minor": 0
}