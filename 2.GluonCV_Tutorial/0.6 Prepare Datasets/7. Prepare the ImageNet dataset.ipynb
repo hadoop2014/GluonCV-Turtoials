{
  "cells": [
    {
      "cell_type": "code",
      "execution_count": null,
      "metadata": {
        "collapsed": false
      },
      "outputs": [],
      "source": [
        "%matplotlib inline"
      ]
    },
    {
      "cell_type": "markdown",
      "metadata": {},
      "source": [
        "Prepare the ImageNet dataset\n============================\n\nThe `ImageNet <http://www.image-net.org/>`_ project contains millions of images\nand thousands of objects for image classification. It is widely used in the\nresearch community for benchmarking state-of-the-art models.\n\n![](https://www.fanyeong.com/wp-content/uploads/2018/01/v2-718f95df083b2d715ee29b018d9eb5c2_r.jpg)\n\n   :width: 500 px\n\nThe dataset has multiple versions. The one commonly used for image\nclassification is `ILSVRC 2012\n<http://www.image-net.org/challenges/LSVRC/2012/>`_. This tutorial will go\nthrough the steps of preparing this dataset for GluonCV.\n\n<div class=\"alert alert-info\"><h4>Note</h4><p>You need at least 300 GB disk space to download and extract the dataset. SSD\n   (Solid-state disks) is preferred over HDD because of faster speed.</p></div>\n\nDownload\n--------\n\nFirst, go to the `download page <http://www.image-net.org/download-images>`_\n(you may need to register an account), and find the page for\nILSVRC2012. Next, find and download the following two files:\n\n======================== ======\nFilename                 Size\n======================== ======\nILSVRC2012_img_train.tar 138 GB\nILSVRC2012_img_val.tar   6.3 GB\n======================== ======\n\nSetup\n-----\n\nFirst, please download the helper script\n:download:`imagenet.py<../../../scripts/datasets/imagenet.py>`\nvalidation image info :download:`imagenet_val_maps.pklz<../../../scripts/datasets/imagenet_val_maps.pklz>`.\nMake sure to put them in the same directory.\n\nAssuming the tar files are saved in folder ``~/ILSVRC2012``. We can use the\nfollowing command to prepare the dataset automatically.\n\n.. code-block:: bash\n\n   python imagenet.py --download-dir ~/ILSVRC2012\n\n<div class=\"alert alert-info\"><h4>Note</h4><p>Extracting the images may take a while. For example, it takes\n   about 30min on an AWS EC2 instance with EBS.</p></div>\n\nBy default ``imagenet.py`` will extract the images into\n``~/.mxnet/datasets/imagenet``. You\ncan specify a different target folder by setting ``--target-dir``.\n\n\nRead with GluonCV\n-----------------\n\nThe prepared dataset can be loaded with utility class :py:class:`gluoncv.data.ImageNet`\ndirectly. Here is an example that randomly reads 128 images each time and\nperforms randomized resizing and cropping.\n\n"
      ]
    },
    {
      "cell_type": "code",
      "execution_count": null,
      "metadata": {
        "collapsed": false
      },
      "outputs": [],
      "source": [
        "from gluoncv.data import ImageNet\nfrom mxnet.gluon.data import DataLoader\nfrom mxnet.gluon.data.vision import transforms\n\ntrain_trans = transforms.Compose([\n    transforms.RandomResizedCrop(224),\n    transforms.ToTensor()\n])\n\n# You need to specify ``root`` for ImageNet if you extracted the images into\n# a different folder\ntrain_data = DataLoader(\n    ImageNet(train=True).transform_first(train_trans),\n    batch_size=128, shuffle=True)"
      ]
    },
    {
      "cell_type": "code",
      "execution_count": null,
      "metadata": {
        "collapsed": false
      },
      "outputs": [],
      "source": [
        "for x, y in train_data:\n    print(x.shape, y.shape)\n    break"
      ]
    },
    {
      "cell_type": "markdown",
      "metadata": {},
      "source": [
        "Plot some validation images\n\n"
      ]
    },
    {
      "cell_type": "code",
      "execution_count": null,
      "metadata": {
        "collapsed": false
      },
      "outputs": [],
      "source": [
        "from gluoncv.utils import viz\nval_dataset = ImageNet(train=False)\nviz.plot_image(val_dataset[1234][0])  # index 0 is image, 1 is label\nviz.plot_image(val_dataset[4567][0])"
      ]
    }
  ],
  "metadata": {
    "kernelspec": {
      "display_name": "Python 3",
      "language": "python",
      "name": "python3"
    },
    "language_info": {
      "codemirror_mode": {
        "name": "ipython",
        "version": 3
      },
      "file_extension": ".py",
      "mimetype": "text/x-python",
      "name": "python",
      "nbconvert_exporter": "python",
      "pygments_lexer": "ipython3",
      "version": "3.7.2"
    }
  },
  "nbformat": 4,
  "nbformat_minor": 0
}