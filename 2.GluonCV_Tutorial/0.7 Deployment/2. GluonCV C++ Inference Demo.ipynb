{
  "cells": [
    {
      "cell_type": "code",
      "execution_count": null,
      "metadata": {
        "collapsed": false
      },
      "outputs": [],
      "source": [
        "%matplotlib inline"
      ]
    },
    {
      "cell_type": "markdown",
      "metadata": {},
      "source": [
        "2. GluonCV C++ Inference Demo\n================================\n\nThis is a demo tutorial which illustrates how to use existing GluonCV\nmodels in c++ environments given exported JSON and PARAMS files.\n\nPlease checkout `Export Network <sphx_glr_build_examples_deployment_export_network.py>` for instructions of how to export pre-trained models.\n\nDemo usage\n----------\n\n.. code:: bash\n\n   # with yolo3_darknet53_voc-0000.params and yolo3_darknet53-symbol.json on disk\n   ./gluoncv-detect yolo3_darknet53_voc demo.jpg\n\n.. figure:: https://user-images.githubusercontent.com/3307514/45458507-d76ff600-b6a8-11e8-92e1-0b1966e4344f.jpg\n   :alt: demo\n\n   demo\n\nUsage:\n\n::\n\n   SYNOPSIS\n           ./gluoncv-detect <model file> <image file> [-o <outfile>] [--class-file <classfile>] [-e\n                            <epoch>] [--gpu <gpu>] [-q] [--no-disp] [-t <thresh>]\n\n   OPTIONS\n           -o, --output <outfile>\n                       output image, by default no output\n\n           --class-file <classfile>\n                       plain text file for class names, one name per line\n\n           -e, --epoch <epoch>\n                       Epoch number to load parameters, by default is 0\n\n           --gpu <gpu> Which gpu to use, by default is -1, means cpu only.\n           -q, --quite Quite mode, no screen output\n           --no-disp   Do not display image\n           -t, --thresh <thresh>\n                       Visualize threshold, from 0 to 1, default 0.3.\n\nSource Code and Build Instructions\n----------------------------------\n\nThe C++ demo code and build instructions are available in our repository `scripts\n<https://github.com/dmlc/gluon-cv/tree/master/scripts/deployment/cpp-inference>`_.\n\n.. hint::\n\n    Prebuilt binaries are `available <https://github.com/dmlc/gluon-cv/tree/master/scripts/deployment/cpp-inference#download-prebuilt-binaries>`_ for Linus, Mac OS and Windows.\n\n    And you can also build MXNet from `source <https://github.com/dmlc/gluon-cv/tree/master/scripts/deployment/cpp-inference#build-from-source>`_ to support C++ inference demo.\n\n"
      ]
    }
  ],
  "metadata": {
    "kernelspec": {
      "display_name": "Python 3",
      "language": "python",
      "name": "python3"
    },
    "language_info": {
      "codemirror_mode": {
        "name": "ipython",
        "version": 3
      },
      "file_extension": ".py",
      "mimetype": "text/x-python",
      "name": "python",
      "nbconvert_exporter": "python",
      "pygments_lexer": "ipython3",
      "version": "3.7.2"
    }
  },
  "nbformat": 4,
  "nbformat_minor": 0
}