{
  "cells": [
    {
      "cell_type": "code",
      "execution_count": null,
      "metadata": {
        "collapsed": false
      },
      "outputs": [],
      "source": [
        "%matplotlib inline"
      ]
    },
    {
      "cell_type": "markdown",
      "metadata": {},
      "source": [
        "1. Export trained GluonCV network to JSON\n============================================\n\nIt is awesome if you are enjoy using GluonCV in Python for training and testing.\nAt some point, you might ask: \"Is it possible to deploy the existing models to somewhere out of Python environments?\"\n\nThe answer is \"Absolutely!\", and it's super easy actually.\n\nThis article will show you how to export networks/models to be used somewhere other than Python.\n\n\n"
      ]
    },
    {
      "cell_type": "code",
      "execution_count": null,
      "metadata": {
        "collapsed": false
      },
      "outputs": [],
      "source": [
        "import gluoncv as gcv\nfrom gluoncv.utils import export_block"
      ]
    },
    {
      "cell_type": "markdown",
      "metadata": {},
      "source": [
        "First of all, we need a network to play with, a pre-trained one is perfect\n\n"
      ]
    },
    {
      "cell_type": "code",
      "execution_count": null,
      "metadata": {
        "collapsed": false
      },
      "outputs": [],
      "source": [
        "net = gcv.model_zoo.get_model('resnet18_v1', pretrained=True)\nexport_block('resnet18_v1', net, preprocess=True, layout='HWC')\nprint('Done.')"
      ]
    },
    {
      "cell_type": "markdown",
      "metadata": {},
      "source": [
        ".. hint::\n\n      Use ``preprocess=True`` will add a default preprocess layer above the network,\n      which will subtract mean [123.675, 116.28, 103.53], divide\n      std [58.395, 57.12, 57.375], and convert original image (B, H, W, C and range [0, 255]) to\n      tensor (B, C, H, W) as network input. This is the default preprocess behavior of all GluonCV\n      pre-trained models. With this preprocess head, you can use raw RGB image in C++ without\n      explicitly applying these operations.\n\n"
      ]
    },
    {
      "cell_type": "markdown",
      "metadata": {},
      "source": [
        "The above code generates two files: xxxx.json and xxxx.params\n\n"
      ]
    },
    {
      "cell_type": "code",
      "execution_count": null,
      "metadata": {
        "collapsed": false
      },
      "outputs": [],
      "source": [
        "import glob\nprint(glob.glob('*.json') + glob.glob('*.params'))"
      ]
    },
    {
      "cell_type": "markdown",
      "metadata": {},
      "source": [
        "JSON file includes computational graph and params file includes pre-trained weights.\n\n"
      ]
    },
    {
      "cell_type": "markdown",
      "metadata": {},
      "source": [
        "The exportable networks are not limited to image classification models.\nWe can export detection and segmentation networks as well:\n\n"
      ]
    },
    {
      "cell_type": "code",
      "execution_count": null,
      "metadata": {
        "collapsed": false
      },
      "outputs": [],
      "source": [
        "# YOLO\nnet = gcv.model_zoo.get_model('yolo3_darknet53_coco', pretrained=True)\nexport_block('yolo3_darknet53_coco', net)\n\n# FCN\nnet = gcv.model_zoo.get_model('fcn_resnet50_ade', pretrained=True)\nexport_block('fcn_resnet50_ade', net)\n\n# MaskRCNN\nnet = gcv.model_zoo.get_model('mask_rcnn_resnet50_v1b_coco', pretrained=True)\nexport_block('mask_rcnn_resnet50_v1b_coco', net)"
      ]
    },
    {
      "cell_type": "markdown",
      "metadata": {},
      "source": [
        "We are all set here. Please checkout the other tutorials of how to use the JSON and params files.\n\n"
      ]
    }
  ],
  "metadata": {
    "kernelspec": {
      "display_name": "Python 3",
      "language": "python",
      "name": "python3"
    },
    "language_info": {
      "codemirror_mode": {
        "name": "ipython",
        "version": 3
      },
      "file_extension": ".py",
      "mimetype": "text/x-python",
      "name": "python",
      "nbconvert_exporter": "python",
      "pygments_lexer": "ipython3",
      "version": "3.7.2"
    }
  },
  "nbformat": 4,
  "nbformat_minor": 0
}